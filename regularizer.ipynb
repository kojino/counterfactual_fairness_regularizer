{
 "cells": [
  {
   "cell_type": "code",
   "execution_count": 1,
   "metadata": {},
   "outputs": [
    {
     "name": "stderr",
     "output_type": "stream",
     "text": [
      "/Users/kojin/anaconda/envs/ml/lib/python3.6/importlib/_bootstrap.py:219: RuntimeWarning: compiletime version 3.5 of module 'tensorflow.python.framework.fast_tensor_util' does not match runtime version 3.6\n",
      "  return f(*args, **kwds)\n"
     ]
    }
   ],
   "source": [
    "import numpy as np\n",
    "import pandas as pd\n",
    "import tensorflow as tf"
   ]
  },
  {
   "cell_type": "code",
   "execution_count": 2,
   "metadata": {},
   "outputs": [],
   "source": [
    "df = pd.read_csv('data/adult_one_hot.csv')\n",
    "X_np = df.iloc[:,:-1].as_matrix()\n",
    "X_np = (X_np - np.mean(X_np,axis=0)) / np.std(X_np,axis=0)\n",
    "Y_np = np.expand_dims(df.iloc[:,-1].as_matrix(),1).astype(int)"
   ]
  },
  {
   "cell_type": "markdown",
   "metadata": {},
   "source": [
    "## Logistic Regression"
   ]
  },
  {
   "cell_type": "code",
   "execution_count": 45,
   "metadata": {},
   "outputs": [],
   "source": [
    "num_features = df.shape[1]-1\n",
    "learning_rate = 0.1\n",
    "X = tf.placeholder(tf.float32, shape=[None, num_features])\n",
    "Y = tf.placeholder(tf.float32, shape=[None, 1])\n",
    "W = tf.Variable(tf.zeros([num_features, 1])) # the variables will be all zeros initially\n",
    "b = tf.Variable(tf.zeros([1]))"
   ]
  },
  {
   "cell_type": "code",
   "execution_count": 47,
   "metadata": {},
   "outputs": [],
   "source": [
    "Yhat = tf.sigmoid(X @ W + b)\n",
    "loss               = tf.reduce_mean(-(Y*tf.log(Yhat) + (1-Y)*tf.log(1-Yhat)))\n",
    "correct_prediction = tf.equal(tf.cast(Yhat > 0.5, tf.float32), Y)           \n",
    "accuracy           = tf.reduce_mean(tf.cast(correct_prediction, tf.float32))\n",
    "optimizer = tf.train.GradientDescentOptimizer(learning_rate) \n",
    "update = optimizer.minimize(loss) "
   ]
  },
  {
   "cell_type": "code",
   "execution_count": 48,
   "metadata": {},
   "outputs": [
    {
     "name": "stdout",
     "output_type": "stream",
     "text": [
      "Epoch: 0 Cost: 0.69319 Accuracy: 0.75919\n",
      "Epoch: 100 Cost: 0.357691 Accuracy: 0.843494\n",
      "Epoch: 200 Cost: 0.336354 Accuracy: 0.847087\n",
      "Epoch: 300 Cost: 0.329218 Accuracy: 0.848008\n"
     ]
    }
   ],
   "source": [
    "num_epochs  = 400\n",
    "\n",
    "with tf.Session() as sess:\n",
    "    sess.run(tf.global_variables_initializer())\n",
    "    \n",
    "    for epoch in range(num_epochs):\n",
    "        _, loss_val, acc_val = sess.run([update, loss, accuracy], \n",
    "                                         feed_dict={X: X_np, \n",
    "                                                    Y: Y_np})\n",
    "        if epoch % 100 == 0:\n",
    "            print(\"Epoch:\",epoch,\"Cost:\",loss_val,\"Accuracy:\",acc_val)        \n",
    "#     print(\"Test Accuracy:\", accuracy.eval({X: X_np, Y: mnist.test.labels}))"
   ]
  },
  {
   "cell_type": "markdown",
   "metadata": {},
   "source": [
    "## Logisitic Regression with Matching Regularizer"
   ]
  },
  {
   "cell_type": "code",
   "execution_count": 3,
   "metadata": {},
   "outputs": [],
   "source": [
    "matching = pd.read_csv('data/adult_matches_nondesc.csv').astype(int)"
   ]
  },
  {
   "cell_type": "code",
   "execution_count": 9,
   "metadata": {},
   "outputs": [],
   "source": [
    "num_features = df.shape[1]-1\n",
    "learning_rate = 0.1\n",
    "lambda_ = 0.001\n",
    "X = tf.placeholder(tf.float32, shape=[None, num_features])\n",
    "Y = tf.placeholder(tf.float32, shape=[None, 1])\n",
    "Mid = tf.constant(matching['male.ids'])\n",
    "Fid = tf.constant(matching['female.ids'])\n",
    "W = tf.Variable(tf.zeros([num_features, 1])) # the variables will be all zeros initially\n",
    "b = tf.Variable(tf.zeros([1]))"
   ]
  },
  {
   "cell_type": "code",
   "execution_count": 10,
   "metadata": {},
   "outputs": [],
   "source": [
    "Yhat = tf.sigmoid(X @ W + b)\n",
    "loss = tf.reduce_mean(-(Y*tf.log(Yhat) + (1-Y)*tf.log(1-Yhat)))\n",
    "Mpred = tf.gather(X,Mid,axis=0) @ W + b\n",
    "Fpred = tf.gather(X,Fid,axis=0) @ W + b\n",
    "regularizer = tf.reduce_mean((Mpred - Fpred)**2)\n",
    "objective = loss + lambda_ * regularizer\n",
    "correct_prediction = tf.equal(tf.cast(Yhat > 0.5, tf.float32), Y)           \n",
    "accuracy           = tf.reduce_mean(tf.cast(correct_prediction, tf.float32))\n",
    "optimizer = tf.train.GradientDescentOptimizer(learning_rate) \n",
    "update = optimizer.minimize(objective) "
   ]
  },
  {
   "cell_type": "code",
   "execution_count": 11,
   "metadata": {},
   "outputs": [
    {
     "name": "stdout",
     "output_type": "stream",
     "text": [
      "Epoch: 0 Cost: 0.69319 Accuracy: 0.75919\n",
      "Epoch: 100 Cost: 0.35877 Accuracy: 0.843586\n",
      "Epoch: 200 Cost: 0.33789 Accuracy: 0.846319\n",
      "Epoch: 300 Cost: 0.331058 Accuracy: 0.847947\n"
     ]
    }
   ],
   "source": [
    "num_epochs  = 400\n",
    "\n",
    "with tf.Session() as sess:\n",
    "    sess.run(tf.global_variables_initializer())\n",
    "    \n",
    "    for epoch in range(num_epochs):\n",
    "        _, loss_val, acc_val = sess.run([update, loss, accuracy], \n",
    "                                         feed_dict={X: X_np, \n",
    "                                                    Y: Y_np})\n",
    "        if epoch % 100 == 0:\n",
    "            print(\"Epoch:\",epoch,\"Cost:\",loss_val,\"Accuracy:\",acc_val)        \n",
    "#     print(\"Test Accuracy:\", accuracy.eval({X: X_np, Y: mnist.test.labels}))"
   ]
  }
 ],
 "metadata": {
  "kernelspec": {
   "display_name": "ml",
   "language": "python",
   "name": "ml"
  },
  "language_info": {
   "codemirror_mode": {
    "name": "ipython",
    "version": 3
   },
   "file_extension": ".py",
   "mimetype": "text/x-python",
   "name": "python",
   "nbconvert_exporter": "python",
   "pygments_lexer": "ipython3",
   "version": "3.6.3"
  }
 },
 "nbformat": 4,
 "nbformat_minor": 2
}
